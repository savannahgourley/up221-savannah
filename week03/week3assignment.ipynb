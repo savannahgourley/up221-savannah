{
 "cells": [
  {
   "cell_type": "code",
   "execution_count": null,
   "id": "213f548a-5fc3-4639-8c2b-579f977a6654",
   "metadata": {},
   "outputs": [],
   "source": [
    "### Week 3 Assignment \n",
    "## Programmer's name: Savannah Gourley\n",
    "## Los Angeles County data containing info on educational level and Service Planning Areas (SPAs)\n",
    "## will be pulled and ran through several commands to conduct census data exploration in order to \n",
    "## produce bar charts and maps."
   ]
  },
  {
   "cell_type": "code",
   "execution_count": null,
   "id": "96895f69-a89a-4dbb-9a25-c3e59d319b8f",
   "metadata": {},
   "outputs": [],
   "source": [
    "# importing pandas"
   ]
  },
  {
   "cell_type": "code",
   "execution_count": 9,
   "id": "549b74ab-0c0f-43f7-9f8f-8ef29aac5b81",
   "metadata": {},
   "outputs": [],
   "source": [
    "import pandas as pd"
   ]
  },
  {
   "cell_type": "code",
   "execution_count": null,
   "id": "f5cb4f1e-75c7-49fd-a0e9-34e43664ce6a",
   "metadata": {},
   "outputs": [],
   "source": [
    "# loading dataset "
   ]
  },
  {
   "cell_type": "code",
   "execution_count": 11,
   "id": "ac267f78-6634-4abb-aaea-b48e2fc2819f",
   "metadata": {},
   "outputs": [],
   "source": [
    "df = pd.read_csv('High_School_Graduate_or_Higher_(census_tract).csv')"
   ]
  },
  {
   "cell_type": "code",
   "execution_count": null,
   "id": "37d5257f-8ddd-4f72-ad01-62bdb5414904",
   "metadata": {},
   "outputs": [],
   "source": [
    "# Peaking at dataset rows and columns"
   ]
  },
  {
   "cell_type": "code",
   "execution_count": 13,
   "id": "1de479e7-0fa1-44fd-9e7b-c1db4295e3c5",
   "metadata": {},
   "outputs": [
    {
     "data": {
      "text/plain": [
       "(2495, 9)"
      ]
     },
     "execution_count": 13,
     "metadata": {},
     "output_type": "execute_result"
    }
   ],
   "source": [
    "df.shape"
   ]
  },
  {
   "cell_type": "code",
   "execution_count": 14,
   "id": "5d184925-13ce-4afd-8612-d36b7cca5834",
   "metadata": {},
   "outputs": [
    {
     "data": {
      "text/html": [
       "<div>\n",
       "<style scoped>\n",
       "    .dataframe tbody tr th:only-of-type {\n",
       "        vertical-align: middle;\n",
       "    }\n",
       "\n",
       "    .dataframe tbody tr th {\n",
       "        vertical-align: top;\n",
       "    }\n",
       "\n",
       "    .dataframe thead th {\n",
       "        text-align: right;\n",
       "    }\n",
       "</style>\n",
       "<table border=\"1\" class=\"dataframe\">\n",
       "  <thead>\n",
       "    <tr style=\"text-align: right;\">\n",
       "      <th></th>\n",
       "      <th>OBJECTID</th>\n",
       "      <th>tract</th>\n",
       "      <th>name</th>\n",
       "      <th>hs_grad</th>\n",
       "      <th>sup_dist</th>\n",
       "      <th>csa</th>\n",
       "      <th>spa</th>\n",
       "      <th>SHAPE_Length</th>\n",
       "      <th>SHAPE_Area</th>\n",
       "    </tr>\n",
       "  </thead>\n",
       "  <tbody>\n",
       "    <tr>\n",
       "      <th>0</th>\n",
       "      <td>1</td>\n",
       "      <td>6037101110</td>\n",
       "      <td>1011.10</td>\n",
       "      <td>90.5</td>\n",
       "      <td>District 5</td>\n",
       "      <td>Los Angeles - Tujunga</td>\n",
       "      <td>SPA 2 - San Fernando</td>\n",
       "      <td>0.046261</td>\n",
       "      <td>0.000112</td>\n",
       "    </tr>\n",
       "    <tr>\n",
       "      <th>1</th>\n",
       "      <td>2</td>\n",
       "      <td>6037101122</td>\n",
       "      <td>1011.22</td>\n",
       "      <td>83.9</td>\n",
       "      <td>District 5</td>\n",
       "      <td>Los Angeles - Tujunga</td>\n",
       "      <td>SPA 2 - San Fernando</td>\n",
       "      <td>0.090761</td>\n",
       "      <td>0.000265</td>\n",
       "    </tr>\n",
       "    <tr>\n",
       "      <th>2</th>\n",
       "      <td>3</td>\n",
       "      <td>6037980004</td>\n",
       "      <td>9800.04</td>\n",
       "      <td>NaN</td>\n",
       "      <td>District 5</td>\n",
       "      <td>City of Palmdale</td>\n",
       "      <td>SPA 1 - Antelope Valley</td>\n",
       "      <td>0.267915</td>\n",
       "      <td>0.003525</td>\n",
       "    </tr>\n",
       "    <tr>\n",
       "      <th>3</th>\n",
       "      <td>4</td>\n",
       "      <td>6037101220</td>\n",
       "      <td>1012.20</td>\n",
       "      <td>75.1</td>\n",
       "      <td>District 5</td>\n",
       "      <td>Los Angeles - Tujunga</td>\n",
       "      <td>SPA 2 - San Fernando</td>\n",
       "      <td>0.037876</td>\n",
       "      <td>0.000068</td>\n",
       "    </tr>\n",
       "    <tr>\n",
       "      <th>4</th>\n",
       "      <td>5</td>\n",
       "      <td>6037101221</td>\n",
       "      <td>1012.21</td>\n",
       "      <td>76.5</td>\n",
       "      <td>District 5</td>\n",
       "      <td>Los Angeles - Tujunga</td>\n",
       "      <td>SPA 2 - San Fernando</td>\n",
       "      <td>0.028432</td>\n",
       "      <td>0.000035</td>\n",
       "    </tr>\n",
       "  </tbody>\n",
       "</table>\n",
       "</div>"
      ],
      "text/plain": [
       "   OBJECTID       tract     name  hs_grad    sup_dist                    csa  \\\n",
       "0         1  6037101110  1011.10     90.5  District 5  Los Angeles - Tujunga   \n",
       "1         2  6037101122  1011.22     83.9  District 5  Los Angeles - Tujunga   \n",
       "2         3  6037980004  9800.04      NaN  District 5       City of Palmdale   \n",
       "3         4  6037101220  1012.20     75.1  District 5  Los Angeles - Tujunga   \n",
       "4         5  6037101221  1012.21     76.5  District 5  Los Angeles - Tujunga   \n",
       "\n",
       "                       spa  SHAPE_Length  SHAPE_Area  \n",
       "0     SPA 2 - San Fernando      0.046261    0.000112  \n",
       "1     SPA 2 - San Fernando      0.090761    0.000265  \n",
       "2  SPA 1 - Antelope Valley      0.267915    0.003525  \n",
       "3     SPA 2 - San Fernando      0.037876    0.000068  \n",
       "4     SPA 2 - San Fernando      0.028432    0.000035  "
      ]
     },
     "execution_count": 14,
     "metadata": {},
     "output_type": "execute_result"
    }
   ],
   "source": [
    "df.head()"
   ]
  },
  {
   "cell_type": "code",
   "execution_count": 15,
   "id": "53ff4128-b3d7-4414-98d1-6cd377e749a7",
   "metadata": {},
   "outputs": [
    {
     "name": "stdout",
     "output_type": "stream",
     "text": [
      "<class 'pandas.core.frame.DataFrame'>\n",
      "RangeIndex: 2495 entries, 0 to 2494\n",
      "Data columns (total 9 columns):\n",
      " #   Column        Non-Null Count  Dtype  \n",
      "---  ------        --------------  -----  \n",
      " 0   OBJECTID      2495 non-null   int64  \n",
      " 1   tract         2495 non-null   int64  \n",
      " 2   name          2495 non-null   float64\n",
      " 3   hs_grad       2476 non-null   float64\n",
      " 4   sup_dist      2495 non-null   object \n",
      " 5   csa           2495 non-null   object \n",
      " 6   spa           2495 non-null   object \n",
      " 7   SHAPE_Length  2495 non-null   float64\n",
      " 8   SHAPE_Area    2495 non-null   float64\n",
      "dtypes: float64(4), int64(2), object(3)\n",
      "memory usage: 175.6+ KB\n"
     ]
    }
   ],
   "source": [
    "df.info(verbose=True, show_counts=True)"
   ]
  },
  {
   "cell_type": "code",
   "execution_count": null,
   "id": "a3d11a3c-6343-4e2d-a486-10dd925d5c16",
   "metadata": {},
   "outputs": [],
   "source": [
    "### there appears to be no missing data"
   ]
  },
  {
   "cell_type": "code",
   "execution_count": null,
   "id": "34870cbe-2706-4e9e-ad45-bc08188d37fe",
   "metadata": {},
   "outputs": [],
   "source": [
    "### Need to put leading zeros for the tract number"
   ]
  },
  {
   "cell_type": "code",
   "execution_count": 16,
   "id": "6fb3a7cc-6f34-4fce-a546-2479b3e36593",
   "metadata": {},
   "outputs": [],
   "source": [
    "df = pd.read_csv(\n",
    "    'High_School_Graduate_or_Higher_(census_tract).csv',\n",
    "    dtype=\n",
    "    {\n",
    "        'tract':str\n",
    "    }\n",
    ")"
   ]
  },
  {
   "cell_type": "code",
   "execution_count": 17,
   "id": "25664344-b547-4bd4-9c80-6fee696c233b",
   "metadata": {},
   "outputs": [
    {
     "data": {
      "text/html": [
       "<div>\n",
       "<style scoped>\n",
       "    .dataframe tbody tr th:only-of-type {\n",
       "        vertical-align: middle;\n",
       "    }\n",
       "\n",
       "    .dataframe tbody tr th {\n",
       "        vertical-align: top;\n",
       "    }\n",
       "\n",
       "    .dataframe thead th {\n",
       "        text-align: right;\n",
       "    }\n",
       "</style>\n",
       "<table border=\"1\" class=\"dataframe\">\n",
       "  <thead>\n",
       "    <tr style=\"text-align: right;\">\n",
       "      <th></th>\n",
       "      <th>OBJECTID</th>\n",
       "      <th>tract</th>\n",
       "      <th>name</th>\n",
       "      <th>hs_grad</th>\n",
       "      <th>sup_dist</th>\n",
       "      <th>csa</th>\n",
       "      <th>spa</th>\n",
       "      <th>SHAPE_Length</th>\n",
       "      <th>SHAPE_Area</th>\n",
       "    </tr>\n",
       "  </thead>\n",
       "  <tbody>\n",
       "    <tr>\n",
       "      <th>0</th>\n",
       "      <td>1</td>\n",
       "      <td>06037101110</td>\n",
       "      <td>1011.10</td>\n",
       "      <td>90.5</td>\n",
       "      <td>District 5</td>\n",
       "      <td>Los Angeles - Tujunga</td>\n",
       "      <td>SPA 2 - San Fernando</td>\n",
       "      <td>0.046261</td>\n",
       "      <td>0.000112</td>\n",
       "    </tr>\n",
       "    <tr>\n",
       "      <th>1</th>\n",
       "      <td>2</td>\n",
       "      <td>06037101122</td>\n",
       "      <td>1011.22</td>\n",
       "      <td>83.9</td>\n",
       "      <td>District 5</td>\n",
       "      <td>Los Angeles - Tujunga</td>\n",
       "      <td>SPA 2 - San Fernando</td>\n",
       "      <td>0.090761</td>\n",
       "      <td>0.000265</td>\n",
       "    </tr>\n",
       "    <tr>\n",
       "      <th>2</th>\n",
       "      <td>3</td>\n",
       "      <td>06037980004</td>\n",
       "      <td>9800.04</td>\n",
       "      <td>NaN</td>\n",
       "      <td>District 5</td>\n",
       "      <td>City of Palmdale</td>\n",
       "      <td>SPA 1 - Antelope Valley</td>\n",
       "      <td>0.267915</td>\n",
       "      <td>0.003525</td>\n",
       "    </tr>\n",
       "    <tr>\n",
       "      <th>3</th>\n",
       "      <td>4</td>\n",
       "      <td>06037101220</td>\n",
       "      <td>1012.20</td>\n",
       "      <td>75.1</td>\n",
       "      <td>District 5</td>\n",
       "      <td>Los Angeles - Tujunga</td>\n",
       "      <td>SPA 2 - San Fernando</td>\n",
       "      <td>0.037876</td>\n",
       "      <td>0.000068</td>\n",
       "    </tr>\n",
       "    <tr>\n",
       "      <th>4</th>\n",
       "      <td>5</td>\n",
       "      <td>06037101221</td>\n",
       "      <td>1012.21</td>\n",
       "      <td>76.5</td>\n",
       "      <td>District 5</td>\n",
       "      <td>Los Angeles - Tujunga</td>\n",
       "      <td>SPA 2 - San Fernando</td>\n",
       "      <td>0.028432</td>\n",
       "      <td>0.000035</td>\n",
       "    </tr>\n",
       "  </tbody>\n",
       "</table>\n",
       "</div>"
      ],
      "text/plain": [
       "   OBJECTID        tract     name  hs_grad    sup_dist                    csa  \\\n",
       "0         1  06037101110  1011.10     90.5  District 5  Los Angeles - Tujunga   \n",
       "1         2  06037101122  1011.22     83.9  District 5  Los Angeles - Tujunga   \n",
       "2         3  06037980004  9800.04      NaN  District 5       City of Palmdale   \n",
       "3         4  06037101220  1012.20     75.1  District 5  Los Angeles - Tujunga   \n",
       "4         5  06037101221  1012.21     76.5  District 5  Los Angeles - Tujunga   \n",
       "\n",
       "                       spa  SHAPE_Length  SHAPE_Area  \n",
       "0     SPA 2 - San Fernando      0.046261    0.000112  \n",
       "1     SPA 2 - San Fernando      0.090761    0.000265  \n",
       "2  SPA 1 - Antelope Valley      0.267915    0.003525  \n",
       "3     SPA 2 - San Fernando      0.037876    0.000068  \n",
       "4     SPA 2 - San Fernando      0.028432    0.000035  "
      ]
     },
     "execution_count": 17,
     "metadata": {},
     "output_type": "execute_result"
    }
   ],
   "source": [
    "df.head()"
   ]
  },
  {
   "cell_type": "code",
   "execution_count": null,
   "id": "d141e9ec-7858-44de-8a67-c053519d677e",
   "metadata": {},
   "outputs": [],
   "source": [
    "# Leading zeros! Yay!"
   ]
  },
  {
   "cell_type": "code",
   "execution_count": null,
   "id": "a21f8321-fc91-43db-923f-6c8763d277e1",
   "metadata": {},
   "outputs": [],
   "source": [
    "# No need to rename columns; column names already make sense"
   ]
  },
  {
   "cell_type": "code",
   "execution_count": null,
   "id": "86c2c6fa-bbda-4003-bca7-8bbe9108eedb",
   "metadata": {},
   "outputs": [],
   "source": [
    "# Create bar chart for the top ten SPAs that have the lowest proportions of people\n",
    "# who graduated with a high school degree or higher"
   ]
  },
  {
   "cell_type": "code",
   "execution_count": 18,
   "id": "949f5380-9288-4fe5-9787-c8a2afb67d87",
   "metadata": {},
   "outputs": [],
   "source": [
    "df_sorted = df.sort_values(by='hs_grad',ascending = True)"
   ]
  },
  {
   "cell_type": "code",
   "execution_count": 24,
   "id": "3ca47464-85dc-460b-b257-5836213f4e3a",
   "metadata": {},
   "outputs": [
    {
     "data": {
      "text/html": [
       "<div>\n",
       "<style scoped>\n",
       "    .dataframe tbody tr th:only-of-type {\n",
       "        vertical-align: middle;\n",
       "    }\n",
       "\n",
       "    .dataframe tbody tr th {\n",
       "        vertical-align: top;\n",
       "    }\n",
       "\n",
       "    .dataframe thead th {\n",
       "        text-align: right;\n",
       "    }\n",
       "</style>\n",
       "<table border=\"1\" class=\"dataframe\">\n",
       "  <thead>\n",
       "    <tr style=\"text-align: right;\">\n",
       "      <th></th>\n",
       "      <th>spa</th>\n",
       "      <th>hs_grad</th>\n",
       "    </tr>\n",
       "  </thead>\n",
       "  <tbody>\n",
       "    <tr>\n",
       "      <th>638</th>\n",
       "      <td>SPA 4 - Metro</td>\n",
       "      <td>30.9</td>\n",
       "    </tr>\n",
       "    <tr>\n",
       "      <th>1780</th>\n",
       "      <td>SPA 6 - South</td>\n",
       "      <td>32.4</td>\n",
       "    </tr>\n",
       "    <tr>\n",
       "      <th>627</th>\n",
       "      <td>SPA 4 - Metro</td>\n",
       "      <td>33.3</td>\n",
       "    </tr>\n",
       "    <tr>\n",
       "      <th>628</th>\n",
       "      <td>SPA 4 - Metro</td>\n",
       "      <td>33.5</td>\n",
       "    </tr>\n",
       "    <tr>\n",
       "      <th>780</th>\n",
       "      <td>SPA 6 - South</td>\n",
       "      <td>33.8</td>\n",
       "    </tr>\n",
       "    <tr>\n",
       "      <th>784</th>\n",
       "      <td>SPA 6 - South</td>\n",
       "      <td>34.2</td>\n",
       "    </tr>\n",
       "    <tr>\n",
       "      <th>1705</th>\n",
       "      <td>SPA 7 - East</td>\n",
       "      <td>34.6</td>\n",
       "    </tr>\n",
       "    <tr>\n",
       "      <th>794</th>\n",
       "      <td>SPA 6 - South</td>\n",
       "      <td>35.1</td>\n",
       "    </tr>\n",
       "    <tr>\n",
       "      <th>630</th>\n",
       "      <td>SPA 4 - Metro</td>\n",
       "      <td>37.1</td>\n",
       "    </tr>\n",
       "    <tr>\n",
       "      <th>1784</th>\n",
       "      <td>SPA 6 - South</td>\n",
       "      <td>37.3</td>\n",
       "    </tr>\n",
       "  </tbody>\n",
       "</table>\n",
       "</div>"
      ],
      "text/plain": [
       "                spa  hs_grad\n",
       "638   SPA 4 - Metro     30.9\n",
       "1780  SPA 6 - South     32.4\n",
       "627   SPA 4 - Metro     33.3\n",
       "628   SPA 4 - Metro     33.5\n",
       "780   SPA 6 - South     33.8\n",
       "784   SPA 6 - South     34.2\n",
       "1705   SPA 7 - East     34.6\n",
       "794   SPA 6 - South     35.1\n",
       "630   SPA 4 - Metro     37.1\n",
       "1784  SPA 6 - South     37.3"
      ]
     },
     "execution_count": 24,
     "metadata": {},
     "output_type": "execute_result"
    }
   ],
   "source": [
    "df_sorted[['spa','hs_grad']].head(10)"
   ]
  },
  {
   "cell_type": "code",
   "execution_count": 28,
   "id": "2e12dd8c-f3a4-46e9-a5de-9159eff1368f",
   "metadata": {},
   "outputs": [
    {
     "data": {
      "text/plain": [
       "<Axes: title={'center': '10 Lowest LA SPAs with High School or Higher Completion Rate in 2023'}, xlabel='spa'>"
      ]
     },
     "execution_count": 28,
     "metadata": {},
     "output_type": "execute_result"
    },
    {
     "data": {
      "image/png": "[encoded data removed]",
      "text/plain": [
       "<Figure size 640x480 with 1 Axes>"
      ]
     },
     "metadata": {},
     "output_type": "display_data"
    }
   ],
   "source": [
    "df_sorted.head(10).plot.bar(x='spa',\n",
    "                            y='hs_grad',\n",
    "                           title= '10 Lowest LA SPAs with High School or Higher Completion Rate in 2023',\n",
    "                            color='navy')"
   ]
  },
  {
   "cell_type": "code",
   "execution_count": null,
   "id": "5c2ef4f5-a8cb-4310-98cc-1049099d54d9",
   "metadata": {},
   "outputs": [],
   "source": [
    "# It appears that SPAs 4 and 6 have the lowest education"
   ]
  },
  {
   "cell_type": "code",
   "execution_count": null,
   "id": "bf7df692-0a7f-456e-9b73-21b9ffafb649",
   "metadata": {},
   "outputs": [],
   "source": [
    "# Now let's chart the areas of LA that have the highest amount of people who have \n",
    "# obtained a high school degree or higher"
   ]
  },
  {
   "cell_type": "code",
   "execution_count": 29,
   "id": "c8d5734c-3f6c-4d4e-8484-ed8da880e36c",
   "metadata": {},
   "outputs": [],
   "source": [
    "df_high = df.sort_values(by='hs_grad',ascending = False)"
   ]
  },
  {
   "cell_type": "code",
   "execution_count": null,
   "id": "225ddbec-ebe8-4900-a8c6-e2d863b2a869",
   "metadata": {},
   "outputs": [],
   "source": [
    "#Only going to look at top 10 areas since dataset is large"
   ]
  },
  {
   "cell_type": "code",
   "execution_count": 30,
   "id": "322db9de-680a-45a8-8670-bf14d27218e4",
   "metadata": {},
   "outputs": [
    {
     "data": {
      "text/html": [
       "<div>\n",
       "<style scoped>\n",
       "    .dataframe tbody tr th:only-of-type {\n",
       "        vertical-align: middle;\n",
       "    }\n",
       "\n",
       "    .dataframe tbody tr th {\n",
       "        vertical-align: top;\n",
       "    }\n",
       "\n",
       "    .dataframe thead th {\n",
       "        text-align: right;\n",
       "    }\n",
       "</style>\n",
       "<table border=\"1\" class=\"dataframe\">\n",
       "  <thead>\n",
       "    <tr style=\"text-align: right;\">\n",
       "      <th></th>\n",
       "      <th>spa</th>\n",
       "      <th>hs_grad</th>\n",
       "    </tr>\n",
       "  </thead>\n",
       "  <tbody>\n",
       "    <tr>\n",
       "      <th>944</th>\n",
       "      <td>SPA 5 - West</td>\n",
       "      <td>100.0</td>\n",
       "    </tr>\n",
       "    <tr>\n",
       "      <th>954</th>\n",
       "      <td>SPA 5 - West</td>\n",
       "      <td>100.0</td>\n",
       "    </tr>\n",
       "    <tr>\n",
       "      <th>2486</th>\n",
       "      <td>SPA 2 - San Fernando</td>\n",
       "      <td>100.0</td>\n",
       "    </tr>\n",
       "    <tr>\n",
       "      <th>2484</th>\n",
       "      <td>SPA 5 - West</td>\n",
       "      <td>100.0</td>\n",
       "    </tr>\n",
       "    <tr>\n",
       "      <th>957</th>\n",
       "      <td>SPA 5 - West</td>\n",
       "      <td>100.0</td>\n",
       "    </tr>\n",
       "    <tr>\n",
       "      <th>956</th>\n",
       "      <td>SPA 5 - West</td>\n",
       "      <td>100.0</td>\n",
       "    </tr>\n",
       "    <tr>\n",
       "      <th>2296</th>\n",
       "      <td>SPA 2 - San Fernando</td>\n",
       "      <td>100.0</td>\n",
       "    </tr>\n",
       "    <tr>\n",
       "      <th>2479</th>\n",
       "      <td>SPA 8 - South Bay</td>\n",
       "      <td>100.0</td>\n",
       "    </tr>\n",
       "    <tr>\n",
       "      <th>2477</th>\n",
       "      <td>SPA 7 - East</td>\n",
       "      <td>100.0</td>\n",
       "    </tr>\n",
       "    <tr>\n",
       "      <th>2473</th>\n",
       "      <td>SPA 2 - San Fernando</td>\n",
       "      <td>100.0</td>\n",
       "    </tr>\n",
       "  </tbody>\n",
       "</table>\n",
       "</div>"
      ],
      "text/plain": [
       "                       spa  hs_grad\n",
       "944           SPA 5 - West    100.0\n",
       "954           SPA 5 - West    100.0\n",
       "2486  SPA 2 - San Fernando    100.0\n",
       "2484          SPA 5 - West    100.0\n",
       "957           SPA 5 - West    100.0\n",
       "956           SPA 5 - West    100.0\n",
       "2296  SPA 2 - San Fernando    100.0\n",
       "2479     SPA 8 - South Bay    100.0\n",
       "2477          SPA 7 - East    100.0\n",
       "2473  SPA 2 - San Fernando    100.0"
      ]
     },
     "execution_count": 30,
     "metadata": {},
     "output_type": "execute_result"
    }
   ],
   "source": [
    "df_high[['spa','hs_grad']].head(10)"
   ]
  },
  {
   "cell_type": "code",
   "execution_count": 33,
   "id": "33e0ac48-fa54-4861-80e3-53225d4e04ef",
   "metadata": {},
   "outputs": [
    {
     "data": {
      "text/plain": [
       "<Axes: title={'center': '10 Highest LA SPAs with High School or Higher Completion Rate in 2023'}, xlabel='spa'>"
      ]
     },
     "execution_count": 33,
     "metadata": {},
     "output_type": "execute_result"
    },
    {
     "data": {
      "image/png": "[encoded data removed]",
      "text/plain": [
       "<Figure size 640x480 with 1 Axes>"
      ]
     },
     "metadata": {},
     "output_type": "display_data"
    }
   ],
   "source": [
    "df_high.head(10).plot.bar(x='spa',\n",
    "                            y='hs_grad',\n",
    "                           title= '10 Highest LA SPAs with High School or Higher Completion Rate in 2023',\n",
    "                            color='purple')"
   ]
  },
  {
   "cell_type": "code",
   "execution_count": null,
   "id": "f6c37ef5-4ae1-4565-8102-a934e6db1a5c",
   "metadata": {},
   "outputs": [],
   "source": [
    "# It appears that SPA 5 dominates with education which makes sense given it's an \n",
    "# area with high SES."
   ]
  },
  {
   "cell_type": "code",
   "execution_count": null,
   "id": "0ce3ca29-915a-4171-9acb-277c7990858a",
   "metadata": {},
   "outputs": [],
   "source": [
    "# map time! Importing geopandas"
   ]
  },
  {
   "cell_type": "code",
   "execution_count": 37,
   "id": "8cb35ebb-e909-45fa-9c2e-04cc3ea3d8a0",
   "metadata": {},
   "outputs": [],
   "source": [
    "import geopandas as gpd"
   ]
  },
  {
   "cell_type": "code",
   "execution_count": 42,
   "id": "7acbfc75-2b61-45c5-97a1-1183b3411ec6",
   "metadata": {},
   "outputs": [
    {
     "data": {
      "text/html": [
       "<div>\n",
       "<style scoped>\n",
       "    .dataframe tbody tr th:only-of-type {\n",
       "        vertical-align: middle;\n",
       "    }\n",
       "\n",
       "    .dataframe tbody tr th {\n",
       "        vertical-align: top;\n",
       "    }\n",
       "\n",
       "    .dataframe thead th {\n",
       "        text-align: right;\n",
       "    }\n",
       "</style>\n",
       "<table border=\"1\" class=\"dataframe\">\n",
       "  <thead>\n",
       "    <tr style=\"text-align: right;\">\n",
       "      <th></th>\n",
       "      <th>OBJECTID</th>\n",
       "      <th>CT20</th>\n",
       "      <th>LABEL</th>\n",
       "      <th>ShapeSTArea</th>\n",
       "      <th>ShapeSTLength</th>\n",
       "      <th>geometry</th>\n",
       "    </tr>\n",
       "  </thead>\n",
       "  <tbody>\n",
       "    <tr>\n",
       "      <th>0</th>\n",
       "      <td>1</td>\n",
       "      <td>101110</td>\n",
       "      <td>1011.10</td>\n",
       "      <td>1.229562e+07</td>\n",
       "      <td>15083.854287</td>\n",
       "      <td>POLYGON ((-118.28491 34.25948, -118.28492 34.2...</td>\n",
       "    </tr>\n",
       "    <tr>\n",
       "      <th>1</th>\n",
       "      <td>2</td>\n",
       "      <td>101122</td>\n",
       "      <td>1011.22</td>\n",
       "      <td>2.845774e+07</td>\n",
       "      <td>31671.455844</td>\n",
       "      <td>POLYGON ((-118.29015 34.27417, -118.29015 34.2...</td>\n",
       "    </tr>\n",
       "    <tr>\n",
       "      <th>2</th>\n",
       "      <td>3</td>\n",
       "      <td>101220</td>\n",
       "      <td>1012.20</td>\n",
       "      <td>7.522093e+06</td>\n",
       "      <td>12698.783810</td>\n",
       "      <td>POLYGON ((-118.28100 34.25592, -118.28198 34.2...</td>\n",
       "    </tr>\n",
       "    <tr>\n",
       "      <th>3</th>\n",
       "      <td>4</td>\n",
       "      <td>101221</td>\n",
       "      <td>1012.21</td>\n",
       "      <td>3.812000e+06</td>\n",
       "      <td>9161.710543</td>\n",
       "      <td>POLYGON ((-118.28735 34.25591, -118.28863 34.2...</td>\n",
       "    </tr>\n",
       "    <tr>\n",
       "      <th>4</th>\n",
       "      <td>5</td>\n",
       "      <td>101222</td>\n",
       "      <td>1012.22</td>\n",
       "      <td>3.191371e+06</td>\n",
       "      <td>9980.600461</td>\n",
       "      <td>POLYGON ((-118.28594 34.25405, -118.28594 34.2...</td>\n",
       "    </tr>\n",
       "  </tbody>\n",
       "</table>\n",
       "</div>"
      ],
      "text/plain": [
       "   OBJECTID    CT20    LABEL   ShapeSTArea  ShapeSTLength  \\\n",
       "0         1  101110  1011.10  1.229562e+07   15083.854287   \n",
       "1         2  101122  1011.22  2.845774e+07   31671.455844   \n",
       "2         3  101220  1012.20  7.522093e+06   12698.783810   \n",
       "3         4  101221  1012.21  3.812000e+06    9161.710543   \n",
       "4         5  101222  1012.22  3.191371e+06    9980.600461   \n",
       "\n",
       "                                            geometry  \n",
       "0  POLYGON ((-118.28491 34.25948, -118.28492 34.2...  \n",
       "1  POLYGON ((-118.29015 34.27417, -118.29015 34.2...  \n",
       "2  POLYGON ((-118.28100 34.25592, -118.28198 34.2...  \n",
       "3  POLYGON ((-118.28735 34.25591, -118.28863 34.2...  \n",
       "4  POLYGON ((-118.28594 34.25405, -118.28594 34.2...  "
      ]
     },
     "execution_count": 42,
     "metadata": {},
     "output_type": "execute_result"
    }
   ],
   "source": [
    "map=gpd.read_file('Census_Tracts_2020.geojson')\n",
    "map.head()"
   ]
  },
  {
   "cell_type": "code",
   "execution_count": 43,
   "id": "736f937b-3ee4-4e58-acab-3e2fe7e5207d",
   "metadata": {},
   "outputs": [
    {
     "data": {
      "text/html": [
       "<div>\n",
       "<style scoped>\n",
       "    .dataframe tbody tr th:only-of-type {\n",
       "        vertical-align: middle;\n",
       "    }\n",
       "\n",
       "    .dataframe tbody tr th {\n",
       "        vertical-align: top;\n",
       "    }\n",
       "\n",
       "    .dataframe thead th {\n",
       "        text-align: right;\n",
       "    }\n",
       "</style>\n",
       "<table border=\"1\" class=\"dataframe\">\n",
       "  <thead>\n",
       "    <tr style=\"text-align: right;\">\n",
       "      <th></th>\n",
       "      <th>CT20</th>\n",
       "      <th>geometry</th>\n",
       "    </tr>\n",
       "  </thead>\n",
       "  <tbody>\n",
       "    <tr>\n",
       "      <th>0</th>\n",
       "      <td>101110</td>\n",
       "      <td>POLYGON ((-118.28491 34.25948, -118.28492 34.2...</td>\n",
       "    </tr>\n",
       "    <tr>\n",
       "      <th>1</th>\n",
       "      <td>101122</td>\n",
       "      <td>POLYGON ((-118.29015 34.27417, -118.29015 34.2...</td>\n",
       "    </tr>\n",
       "    <tr>\n",
       "      <th>2</th>\n",
       "      <td>101220</td>\n",
       "      <td>POLYGON ((-118.28100 34.25592, -118.28198 34.2...</td>\n",
       "    </tr>\n",
       "    <tr>\n",
       "      <th>3</th>\n",
       "      <td>101221</td>\n",
       "      <td>POLYGON ((-118.28735 34.25591, -118.28863 34.2...</td>\n",
       "    </tr>\n",
       "    <tr>\n",
       "      <th>4</th>\n",
       "      <td>101222</td>\n",
       "      <td>POLYGON ((-118.28594 34.25405, -118.28594 34.2...</td>\n",
       "    </tr>\n",
       "  </tbody>\n",
       "</table>\n",
       "</div>"
      ],
      "text/plain": [
       "     CT20                                           geometry\n",
       "0  101110  POLYGON ((-118.28491 34.25948, -118.28492 34.2...\n",
       "1  101122  POLYGON ((-118.29015 34.27417, -118.29015 34.2...\n",
       "2  101220  POLYGON ((-118.28100 34.25592, -118.28198 34.2...\n",
       "3  101221  POLYGON ((-118.28735 34.25591, -118.28863 34.2...\n",
       "4  101222  POLYGON ((-118.28594 34.25405, -118.28594 34.2..."
      ]
     },
     "execution_count": 43,
     "metadata": {},
     "output_type": "execute_result"
    }
   ],
   "source": [
    "# Only really need FIPS and geometry, so let's subset the data\n",
    "map = map[['CT20','geometry']]\n",
    "map.head()"
   ]
  },
  {
   "cell_type": "code",
   "execution_count": 44,
   "id": "232e8e4a-93b2-4ab2-aaa3-41e8c9781a35",
   "metadata": {},
   "outputs": [],
   "source": [
    "# create a tract column\n",
    "map['tract'] ='06' + '037' + map['CT20']"
   ]
  },
  {
   "cell_type": "code",
   "execution_count": 45,
   "id": "4ab4be9c-1d44-4d7f-8920-940e7fe8c940",
   "metadata": {},
   "outputs": [
    {
     "data": {
      "text/html": [
       "<div>\n",
       "<style scoped>\n",
       "    .dataframe tbody tr th:only-of-type {\n",
       "        vertical-align: middle;\n",
       "    }\n",
       "\n",
       "    .dataframe tbody tr th {\n",
       "        vertical-align: top;\n",
       "    }\n",
       "\n",
       "    .dataframe thead th {\n",
       "        text-align: right;\n",
       "    }\n",
       "</style>\n",
       "<table border=\"1\" class=\"dataframe\">\n",
       "  <thead>\n",
       "    <tr style=\"text-align: right;\">\n",
       "      <th></th>\n",
       "      <th>CT20</th>\n",
       "      <th>geometry</th>\n",
       "      <th>tract</th>\n",
       "    </tr>\n",
       "  </thead>\n",
       "  <tbody>\n",
       "    <tr>\n",
       "      <th>0</th>\n",
       "      <td>101110</td>\n",
       "      <td>POLYGON ((-118.28491 34.25948, -118.28492 34.2...</td>\n",
       "      <td>06037101110</td>\n",
       "    </tr>\n",
       "    <tr>\n",
       "      <th>1</th>\n",
       "      <td>101122</td>\n",
       "      <td>POLYGON ((-118.29015 34.27417, -118.29015 34.2...</td>\n",
       "      <td>06037101122</td>\n",
       "    </tr>\n",
       "    <tr>\n",
       "      <th>2</th>\n",
       "      <td>101220</td>\n",
       "      <td>POLYGON ((-118.28100 34.25592, -118.28198 34.2...</td>\n",
       "      <td>06037101220</td>\n",
       "    </tr>\n",
       "    <tr>\n",
       "      <th>3</th>\n",
       "      <td>101221</td>\n",
       "      <td>POLYGON ((-118.28735 34.25591, -118.28863 34.2...</td>\n",
       "      <td>06037101221</td>\n",
       "    </tr>\n",
       "    <tr>\n",
       "      <th>4</th>\n",
       "      <td>101222</td>\n",
       "      <td>POLYGON ((-118.28594 34.25405, -118.28594 34.2...</td>\n",
       "      <td>06037101222</td>\n",
       "    </tr>\n",
       "  </tbody>\n",
       "</table>\n",
       "</div>"
      ],
      "text/plain": [
       "     CT20                                           geometry        tract\n",
       "0  101110  POLYGON ((-118.28491 34.25948, -118.28492 34.2...  06037101110\n",
       "1  101122  POLYGON ((-118.29015 34.27417, -118.29015 34.2...  06037101122\n",
       "2  101220  POLYGON ((-118.28100 34.25592, -118.28198 34.2...  06037101220\n",
       "3  101221  POLYGON ((-118.28735 34.25591, -118.28863 34.2...  06037101221\n",
       "4  101222  POLYGON ((-118.28594 34.25405, -118.28594 34.2...  06037101222"
      ]
     },
     "execution_count": 45,
     "metadata": {},
     "output_type": "execute_result"
    }
   ],
   "source": [
    "# check it!\n",
    "map.head()"
   ]
  },
  {
   "cell_type": "code",
   "execution_count": null,
   "id": "8d86863b-a6e2-416e-a124-7e6a6a334437",
   "metadata": {},
   "outputs": [],
   "source": [
    "# Going to merge both datasets on tract (AKA FIPS)"
   ]
  },
  {
   "cell_type": "code",
   "execution_count": 47,
   "id": "3bd5cace-81ed-4032-9276-53bbe9337f35",
   "metadata": {},
   "outputs": [],
   "source": [
    "# creating a new dataframe based on the join\n",
    "df_2=map.merge(df,on=\"tract\")"
   ]
  },
  {
   "cell_type": "code",
   "execution_count": null,
   "id": "0e1263a8-d933-47e3-881f-56b30f7dd60d",
   "metadata": {},
   "outputs": [],
   "source": [
    "# checking it"
   ]
  },
  {
   "cell_type": "code",
   "execution_count": 48,
   "id": "948af49d-7c57-4743-b9d8-5907e79566a4",
   "metadata": {},
   "outputs": [
    {
     "data": {
      "text/html": [
       "<div>\n",
       "<style scoped>\n",
       "    .dataframe tbody tr th:only-of-type {\n",
       "        vertical-align: middle;\n",
       "    }\n",
       "\n",
       "    .dataframe tbody tr th {\n",
       "        vertical-align: top;\n",
       "    }\n",
       "\n",
       "    .dataframe thead th {\n",
       "        text-align: right;\n",
       "    }\n",
       "</style>\n",
       "<table border=\"1\" class=\"dataframe\">\n",
       "  <thead>\n",
       "    <tr style=\"text-align: right;\">\n",
       "      <th></th>\n",
       "      <th>CT20</th>\n",
       "      <th>geometry</th>\n",
       "      <th>tract</th>\n",
       "      <th>OBJECTID</th>\n",
       "      <th>name</th>\n",
       "      <th>hs_grad</th>\n",
       "      <th>sup_dist</th>\n",
       "      <th>csa</th>\n",
       "      <th>spa</th>\n",
       "      <th>SHAPE_Length</th>\n",
       "      <th>SHAPE_Area</th>\n",
       "    </tr>\n",
       "  </thead>\n",
       "  <tbody>\n",
       "    <tr>\n",
       "      <th>0</th>\n",
       "      <td>101110</td>\n",
       "      <td>POLYGON ((-118.28491 34.25948, -118.28492 34.2...</td>\n",
       "      <td>06037101110</td>\n",
       "      <td>1</td>\n",
       "      <td>1011.10</td>\n",
       "      <td>90.5</td>\n",
       "      <td>District 5</td>\n",
       "      <td>Los Angeles - Tujunga</td>\n",
       "      <td>SPA 2 - San Fernando</td>\n",
       "      <td>0.046261</td>\n",
       "      <td>0.000112</td>\n",
       "    </tr>\n",
       "    <tr>\n",
       "      <th>1</th>\n",
       "      <td>101122</td>\n",
       "      <td>POLYGON ((-118.29015 34.27417, -118.29015 34.2...</td>\n",
       "      <td>06037101122</td>\n",
       "      <td>2</td>\n",
       "      <td>1011.22</td>\n",
       "      <td>83.9</td>\n",
       "      <td>District 5</td>\n",
       "      <td>Los Angeles - Tujunga</td>\n",
       "      <td>SPA 2 - San Fernando</td>\n",
       "      <td>0.090761</td>\n",
       "      <td>0.000265</td>\n",
       "    </tr>\n",
       "    <tr>\n",
       "      <th>2</th>\n",
       "      <td>101220</td>\n",
       "      <td>POLYGON ((-118.28100 34.25592, -118.28198 34.2...</td>\n",
       "      <td>06037101220</td>\n",
       "      <td>4</td>\n",
       "      <td>1012.20</td>\n",
       "      <td>75.1</td>\n",
       "      <td>District 5</td>\n",
       "      <td>Los Angeles - Tujunga</td>\n",
       "      <td>SPA 2 - San Fernando</td>\n",
       "      <td>0.037876</td>\n",
       "      <td>0.000068</td>\n",
       "    </tr>\n",
       "    <tr>\n",
       "      <th>3</th>\n",
       "      <td>101221</td>\n",
       "      <td>POLYGON ((-118.28735 34.25591, -118.28863 34.2...</td>\n",
       "      <td>06037101221</td>\n",
       "      <td>5</td>\n",
       "      <td>1012.21</td>\n",
       "      <td>76.5</td>\n",
       "      <td>District 5</td>\n",
       "      <td>Los Angeles - Tujunga</td>\n",
       "      <td>SPA 2 - San Fernando</td>\n",
       "      <td>0.028432</td>\n",
       "      <td>0.000035</td>\n",
       "    </tr>\n",
       "    <tr>\n",
       "      <th>4</th>\n",
       "      <td>101222</td>\n",
       "      <td>POLYGON ((-118.28594 34.25405, -118.28594 34.2...</td>\n",
       "      <td>06037101222</td>\n",
       "      <td>7</td>\n",
       "      <td>1012.22</td>\n",
       "      <td>82.4</td>\n",
       "      <td>District 5</td>\n",
       "      <td>Los Angeles - Tujunga</td>\n",
       "      <td>SPA 2 - San Fernando</td>\n",
       "      <td>0.029524</td>\n",
       "      <td>0.000028</td>\n",
       "    </tr>\n",
       "  </tbody>\n",
       "</table>\n",
       "</div>"
      ],
      "text/plain": [
       "     CT20                                           geometry        tract  \\\n",
       "0  101110  POLYGON ((-118.28491 34.25948, -118.28492 34.2...  06037101110   \n",
       "1  101122  POLYGON ((-118.29015 34.27417, -118.29015 34.2...  06037101122   \n",
       "2  101220  POLYGON ((-118.28100 34.25592, -118.28198 34.2...  06037101220   \n",
       "3  101221  POLYGON ((-118.28735 34.25591, -118.28863 34.2...  06037101221   \n",
       "4  101222  POLYGON ((-118.28594 34.25405, -118.28594 34.2...  06037101222   \n",
       "\n",
       "   OBJECTID     name  hs_grad    sup_dist                    csa  \\\n",
       "0         1  1011.10     90.5  District 5  Los Angeles - Tujunga   \n",
       "1         2  1011.22     83.9  District 5  Los Angeles - Tujunga   \n",
       "2         4  1012.20     75.1  District 5  Los Angeles - Tujunga   \n",
       "3         5  1012.21     76.5  District 5  Los Angeles - Tujunga   \n",
       "4         7  1012.22     82.4  District 5  Los Angeles - Tujunga   \n",
       "\n",
       "                    spa  SHAPE_Length  SHAPE_Area  \n",
       "0  SPA 2 - San Fernando      0.046261    0.000112  \n",
       "1  SPA 2 - San Fernando      0.090761    0.000265  \n",
       "2  SPA 2 - San Fernando      0.037876    0.000068  \n",
       "3  SPA 2 - San Fernando      0.028432    0.000035  \n",
       "4  SPA 2 - San Fernando      0.029524    0.000028  "
      ]
     },
     "execution_count": 48,
     "metadata": {},
     "output_type": "execute_result"
    }
   ],
   "source": [
    "df_2.head()"
   ]
  },
  {
   "cell_type": "code",
   "execution_count": null,
   "id": "07aa85b3-6636-4809-8240-cc5bbf6429d0",
   "metadata": {},
   "outputs": [],
   "source": [
    "#Let's put the merged dataset on a map"
   ]
  },
  {
   "cell_type": "code",
   "execution_count": 49,
   "id": "31a5ecc2-4712-4ccd-b4c5-927e1ed6e0ce",
   "metadata": {},
   "outputs": [
    {
     "data": {
      "text/plain": [
       "<Axes: >"
      ]
     },
     "execution_count": 49,
     "metadata": {},
     "output_type": "execute_result"
    },
    {
     "data": {
      "image/png": "[encoded data removed]",
      "text/plain": [
       "<Figure size 1200x1000 with 1 Axes>"
      ]
     },
     "metadata": {},
     "output_type": "display_data"
    }
   ],
   "source": [
    "df_2.plot(figsize=(12,10),\n",
    "                 column='hs_grad',\n",
    "                 legend=True, \n",
    "                 scheme='quantiles')"
   ]
  },
  {
   "cell_type": "code",
   "execution_count": null,
   "id": "e92fa2d6-9c8f-4e68-8f49-21fb0fc65582",
   "metadata": {},
   "outputs": [],
   "source": [
    "# This map shows that residents in the metro city area of LA have the lowest proportion of \n",
    "# people who obtained a high school degree or higher"
   ]
  },
  {
   "cell_type": "code",
   "execution_count": null,
   "id": "26e2df42-531f-4f6e-9f86-2c4a6b00bd00",
   "metadata": {},
   "outputs": [],
   "source": [
    "### END OF ASSIGNMENT 3 ###"
   ]
  }
 ],
 "metadata": {
  "kernelspec": {
   "display_name": "Python 3 (ipykernel)",
   "language": "python",
   "name": "python3"
  },
  "language_info": {
   "codemirror_mode": {
    "name": "ipython",
    "version": 3
   },
   "file_extension": ".py",
   "mimetype": "text/x-python",
   "name": "python",
   "nbconvert_exporter": "python",
   "pygments_lexer": "ipython3",
   "version": "3.11.7"
  }
 },
 "nbformat": 4,
 "nbformat_minor": 5
}
